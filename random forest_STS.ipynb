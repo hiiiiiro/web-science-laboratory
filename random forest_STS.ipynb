{
 "cells": [
  {
   "cell_type": "markdown",
   "metadata": {},
   "source": [
    "# 文章の基幹化"
   ]
  },
  {
   "cell_type": "code",
   "execution_count": null,
   "metadata": {},
   "outputs": [],
   "source": [
    "from nltk import stem\n",
    "from nltk.corpus import stopwords\n",
    "import re\n",
    "import pandas as pd\n",
    "\n",
    "\n",
    "def text_to_wordlist(text, remove_stopwords=False, stem_words=False):\n",
    "    if pd.isnull(text):\n",
    "        return ''\n",
    "    text = text.lower()\n",
    "    stops = set(stopwords.words(\"english\"))\n",
    "\n",
    "    text = re.sub(r\"[^A-Za-z0-9]\", \" \", text)\n",
    "    text = re.sub(r\"what's\", \" \", text)\n",
    "    text = re.sub(r\"\\'s\", \" \", text)\n",
    "    text = re.sub(r\"\\'ve\", \" have \", text)\n",
    "    text = re.sub(r\"can't\", \"cannot \", text)\n",
    "    text = re.sub(r\"n't\", \" not \", text)\n",
    "    text = re.sub(r\"i'm\", \"i am \", text)\n",
    "    text = re.sub(r\"\\'re\", \" are \", text)\n",
    "    text = re.sub(r\"\\'d\", \" would \", text)\n",
    "    text = re.sub(r\"\\'ll\", \" will \", text)\n",
    "    text = re.sub(r\" e g \", \" eg \", text)\n",
    "    text = re.sub(r\" b g \", \" bg \", text)\n",
    "    text = re.sub(r\" u s \", \" american \", text)\n",
    "    text = re.sub(r\"\\0rs\", \"rs\", text)\n",
    "    text = re.sub(r\" 9 11 \", \"911\", text)\n",
    "    text = re.sub(r\"\\s{2,}\", \" \", text)\n",
    "    text = re.sub(r\"e-mail\", \"email\", text)\n",
    "    text = re.sub(r\"j k\", \"jk\", text)\n",
    "\n",
    "    if remove_stopwords:\n",
    "        text = text.split()\n",
    "        text = [w for w in text if not w in stops]\n",
    "        text = \" \".join(text)\n",
    "\n",
    "    if stem_words:\n",
    "        text = text.split()\n",
    "        stemmer = stem.SnowballStemmer(\"english\")\n",
    "        stemmed_words = [stemmer.stem(word) for word in text]\n",
    "        text = \" \".join(stemmed_words)\n",
    "\n",
    "    return text\n",
    "\n",
    "\n",
    "train_data = pd.read_csv(\"/Users/user/documents/quora/train.csv\")\n",
    "test_data = pd.read_csv(\"/Users/user/documents/quora/test.csv\")\n",
    "\n",
    "train_stem = list()\n",
    "test_stem = list()\n",
    "\n",
    "for i in range(len(train_data)):\n",
    "    train_stem.append(text_to_wordlist(train_data[\"question1\"][i]))\n",
    "    train_stem.append(text_to_wordlist(train_data[\"question2\"][i]))\n",
    "\n",
    "for i in range(len(test_data)):\n",
    "    test_stem.append(text_to_wordlist(test_data[\"question1\"][i]))\n",
    "    test_stem.append(text_to_wordlist(test_data[\"question2\"][i]))"
   ]
  },
  {
   "cell_type": "markdown",
   "metadata": {},
   "source": [
    "# 文章間の単語適合率"
   ]
  },
  {
   "cell_type": "code",
   "execution_count": 51,
   "metadata": {},
   "outputs": [],
   "source": [
    "from nltk.corpus import stopwords\n",
    "\n",
    "def read_txt(file):\n",
    "    tmp = list()\n",
    "    with open(file, 'r') as f:\n",
    "        for line in f:\n",
    "            line.replace('\\n', \"\")\n",
    "            tmp.append(line)\n",
    "    return tmp\n",
    "\n",
    "def match_ratio(t1, t2):\n",
    "    stops = set(stopwords.words(\"english\"))\n",
    "    q1 = dict()\n",
    "    q2 = dict()\n",
    "    for word in str(t1.lower().split()):\n",
    "        if word not in stops:\n",
    "            q1[word] = 1\n",
    "    for word in str(t2.lower().split()):\n",
    "        if word not in stops:\n",
    "            q2[word] = 1\n",
    "    if len(q1) == 0 or len(q2) == 0:\n",
    "        return 0\n",
    "    match_words = [w for w in q1.keys() if w in q2]\n",
    "    return (len(match_words) / (len(q1) + len(q2)))\n",
    "\n",
    "train_match = list()\n",
    "test_match = list()\n",
    "train_df = pd.DataFrame()\n",
    "test_df = pd.DataFrame()\n",
    "\n",
    "for train in zip(*[iter(train_stem)] * 2):\n",
    "    train_match.append(match_ratio(train[0], train[1]))\n",
    "train_df[\"word_match\"] = train_match\n",
    "\n",
    "for test in zip(*[iter(test_stem)] * 2):\n",
    "    test_match.append(match_ratio(test[0], test[1]))\n",
    "test_df[\"word_match\"] = test_match"
   ]
  },
  {
   "cell_type": "markdown",
   "metadata": {},
   "source": [
    "# tfidfの計算"
   ]
  },
  {
   "cell_type": "code",
   "execution_count": 14,
   "metadata": {},
   "outputs": [],
   "source": [
    "import pickle\n",
    "from sklearn.feature_extraction.text import TfidfVectorizer\n",
    "\n",
    "vectorizer = TfidfVectorizer(min_df=2, max_df=0.5)\n",
    "train_tfidf = vectorizer.fit_transform(train_stem)\n",
    "test_tfidf = vectorizer.transform(test_stem)\n",
    "\n",
    "with open(\"train_tfidf.pickle\", 'wb') as f:\n",
    "    pickle.dump(train_tfidf, f)\n",
    "\n",
    "with open(\"test_tfidf.pickle\", 'wb') as f:\n",
    "    pickle.dump(test_tfidf, f)"
   ]
  },
  {
   "cell_type": "markdown",
   "metadata": {},
   "source": [
    "# tfidfのcos類似度の計算"
   ]
  },
  {
   "cell_type": "code",
   "execution_count": null,
   "metadata": {},
   "outputs": [],
   "source": [
    "import pickle\n",
    "import numpy as np\n",
    "\n",
    "def pickle_load(file):\n",
    "    with open(file, 'rb') as f:\n",
    "        obj = pickle.load(f)\n",
    "    return obj\n",
    "\n",
    "def cos_sim(v1, v2):\n",
    "    a = 0\n",
    "    b = 0\n",
    "    dot = 0\n",
    "    for value in v1.data:\n",
    "        a += value * value\n",
    "        a = np.sqrt(a)\n",
    "\n",
    "    for value in v2.data:\n",
    "        b += value * value\n",
    "    b = np.sqrt(b)\n",
    "\n",
    "    for word_a, value_a in zip(v1.indices, v1.data):\n",
    "        for word_b, value_b in zip(v2.indices, v2.data):\n",
    "            if word_a == word_b:\n",
    "                dot += value_a * value_b\n",
    "    return (dot / (a * b)) if (a * b) else 0\n",
    "\n",
    "result = list()\n",
    "train_r = list()\n",
    "\n",
    "x = pickle_load(\"train_tfidf.pickle\")\n",
    "y = pickle_load(\"test_tfidf.pickle\")\n",
    "\n",
    "for vec in zip(*[iter(x)] * 2):\n",
    "    train_r.append(cos_sim(vec[0], vec[1]))\n",
    "train_df[\"tfidf_sim\"] = train_r\n",
    "\n",
    "for vec in zip(*[iter(y)] * 2):\n",
    "    result.append(cos_sim(vec[0], vec[1]))\n",
    "test_df[\"tfidf_sim\"] = result"
   ]
  },
  {
   "cell_type": "markdown",
   "metadata": {},
   "source": [
    "# 重要単語のtfidf値の差"
   ]
  },
  {
   "cell_type": "code",
   "execution_count": null,
   "metadata": {},
   "outputs": [],
   "source": [
    "def dis_cal(t1, t2):\n",
    "    return (1 - abs(t1-t2))**2\n",
    "\n",
    "train_r = list()\n",
    "test_r = list()\n",
    "for vec in zip(*[iter(x)] * 2):\n",
    "    if vec[0].getnnz() == 0 or vec[1].getnnz() == 0:\n",
    "        train_r.append(0)\n",
    "    else:\n",
    "        train_r.append(dis_cal(vec[0].data.max(), vec[1].data.max()))\n",
    "train_df[\"word_dis\"] = train_r\n",
    "\n",
    "for vec in zip(*[iter(y)] * 2):\n",
    "    if vec[0].getnnz() == 0 or vec[1].getnnz() == 0:\n",
    "        train_r.append(0)\n",
    "    else:\n",
    "        test_r.append((dis_cal(vec[0].data.max(), vec[1].data.max())))\n",
    "test_df[\"word_dis\"] = test_r"
   ]
  },
  {
   "cell_type": "markdown",
   "metadata": {},
   "source": [
    "# 分類器の作成"
   ]
  },
  {
   "cell_type": "code",
   "execution_count": 6,
   "metadata": {},
   "outputs": [
    {
     "name": "stdout",
     "output_type": "stream",
     "text": [
      "0.69524351332\n"
     ]
    }
   ],
   "source": [
    "def random_forest(x_train, y_train, x_test, y_test):\n",
    "    from sklearn.ensemble import RandomForestClassifier\n",
    "    from sklearn.model_selection import GridSearchCV\n",
    "    forest = RandomForestClassifier(n_estimators=500, \n",
    "                                    criterion='gini', \n",
    "                                    max_depth=None, \n",
    "                                    min_samples_split=2, \n",
    "                                    min_samples_leaf=100, \n",
    "                                    max_features='sqrt', \n",
    "                                    max_leaf_nodes=None, \n",
    "                                    bootstrap=True, \n",
    "                                    oob_score=False, \n",
    "                                    n_jobs=1, \n",
    "                                    random_state=None, \n",
    "                                    verbose=0)\n",
    "    forest.fit(x_train, y_train)\n",
    "    print(forest.score(x_test, y_test))\n",
    "    y_test_pred = forest.predict_proba(x_test)\n",
    "    return y_test_pred\n",
    "\n",
    "train_df = train_df.fillna(0)\n",
    "test_df = test_df.fillna(0)\n",
    "\n",
    "y_test = random_forest(train_df, train_data['is_duplicate'], test_df)\n",
    "\n",
    "sub = pd.DataFrame()\n",
    "sub['test_id'] = test_data['test_id']\n",
    "sub['is_duplicate'] = y_test[:,1]\n",
    "sub.to_csv('submit.csv', index=False)"
   ]
  }
 ],
 "metadata": {
  "kernelspec": {
   "display_name": "Python 3",
   "language": "python",
   "name": "python3"
  },
  "language_info": {
   "codemirror_mode": {
    "name": "ipython",
    "version": 3
   },
   "file_extension": ".py",
   "mimetype": "text/x-python",
   "name": "python",
   "nbconvert_exporter": "python",
   "pygments_lexer": "ipython3",
   "version": "3.6.2"
  }
 },
 "nbformat": 4,
 "nbformat_minor": 2
}
